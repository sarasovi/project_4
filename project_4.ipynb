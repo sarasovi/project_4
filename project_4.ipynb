{
 "cells": [
  {
   "cell_type": "code",
   "execution_count": 21,
   "metadata": {},
   "outputs": [],
   "source": [
    "def country_headlines():\n",
    "    '''this function prints the headlines for the country and category entered'''\n",
    "    country_code = input('Enter the country code: ')\n",
    "    cat = input('Enter category: ')\n",
    "    import requests\n",
    "    url = 'https://newsapi.org/v2/top-headlines?country='+country_code+'&category='+cat+'&apiKey=d00c45a7dacc4ecf8621d188df3bd26c'\n",
    "    r = requests.get(url)\n",
    "    data = r.json()\n",
    "    articles = data['articles']\n",
    "    for article in articles:\n",
    "        print (article['title'])"
   ]
  },
  {
   "cell_type": "code",
   "execution_count": 22,
   "metadata": {},
   "outputs": [
    {
     "name": "stdout",
     "output_type": "stream",
     "text": [
      "Enter the country code: jp\n",
      "Enter category: business\n",
      "米1カ月物ＴＢ入札、売却額700億ドルと過去最高 応札倍率5週ぶり低水準\n",
      "ホンダジェット、デリバリー数が17機で小型ジェットカテゴリー2期連続トップ 2018年上半期\n",
      "JR四国、瀬戸大橋線＆アンパンマン30周年の記念列車 - 10/19運転\n",
      "元役員がずさん融資主導 スルガ銀、統治不全に 第三者委、責任追及へ\n",
      "ＮＴＴ、ドコモ頼み脱却 19年ぶりグループ再編\n",
      "得点操作、医大幹部「全く知らぬ」何度も強調\n",
      "トルコリラ一段安なら、国内銀の余剰資本大幅消失の恐れ＝ゴールドマン\n",
      "イオンカード「ペッパー」が加入案内 無人化目指す\n",
      "大塚家具、３年連続赤字へ 黒字予想一転、大型店不振\n",
      "【通貨】欧州為替：ドル・円は111円37銭から111円11銭まで下落\n",
      "はれのひ元社長、融資金詐取で追起訴…捜査終結\n",
      "「冷房使用は福祉」 猛暑続く韓国、電気料金を値下げへ\n",
      "TSMCがウイルスに感染、第3四半期の売上に3%の影響\n",
      "キリンＨＤ、1―6月事業益は4.3％減 ビール類販売計画は上方修正\n",
      "両手間計測体組成計「ＤＣ－１３Ｃ」を施設向けに８月７日発売\n",
      "スタバ新作「スモア×抹茶とか俺的最強すぎ！」ネット歓喜の夏フラぺを開発に聞く\n",
      "阪急阪神ＨＤ、ヨドバシ梅田タワーにホテル 大阪最大規模\n",
      "1万円金貨5万枚を発行 天皇在位30年記念\n",
      "マクドナルドの商品に歯のような異物混入 男性客が口に\n",
      "米国株、ダウ続伸39ドル高 好業績が支え、米中貿易摩擦は重荷\n"
     ]
    }
   ],
   "source": [
    "country_headlines()\n"
   ]
  },
  {
   "cell_type": "code",
   "execution_count": null,
   "metadata": {},
   "outputs": [],
   "source": []
  }
 ],
 "metadata": {
  "kernelspec": {
   "display_name": "Python 3",
   "language": "python",
   "name": "python3"
  },
  "language_info": {
   "codemirror_mode": {
    "name": "ipython",
    "version": 3
   },
   "file_extension": ".py",
   "mimetype": "text/x-python",
   "name": "python",
   "nbconvert_exporter": "python",
   "pygments_lexer": "ipython3",
   "version": "3.6.5"
  }
 },
 "nbformat": 4,
 "nbformat_minor": 2
}
